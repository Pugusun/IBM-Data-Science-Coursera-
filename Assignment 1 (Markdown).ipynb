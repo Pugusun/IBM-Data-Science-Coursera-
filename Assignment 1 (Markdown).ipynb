{
    "cells": [
        {
            "metadata": {
                "collapsed": true
            },
            "cell_type": "markdown",
            "source": "# My Jupiter Notebook on IBM Data Science Experience "
        },
        {
            "metadata": {},
            "cell_type": "markdown",
            "source": "**Glenn F**\n\nGraduate Student "
        },
        {
            "metadata": {},
            "cell_type": "markdown",
            "source": "_When I took a class on R last semester, I had a lot of fun so now I am exploring Data Science as a career option_"
        },
        {
            "metadata": {},
            "cell_type": "markdown",
            "source": "### Code in the following cell will do a simple calculation"
        },
        {
            "metadata": {},
            "cell_type": "code",
            "source": "111//7",
            "execution_count": 2,
            "outputs": [
                {
                    "output_type": "execute_result",
                    "execution_count": 2,
                    "data": {
                        "text/plain": "15"
                    },
                    "metadata": {}
                }
            ]
        },
        {
            "metadata": {},
            "cell_type": "markdown",
            "source": "**What I'm watching right now**\n  \n    Avatar :\n  1. ~The Last Airbender~\n  2. The Legend of Korra\n  \n[Legend of Korra - Wikipedia](https://en.wikipedia.org/wiki/The_Legend_of_Korra)\n\n![Korra](https://vignette.wikia.nocookie.net/avatar/images/3/36/Opening_Korra_waterbending.png/revision/latest?cb=20121111175749)\n  \n"
        },
        {
            "metadata": {},
            "cell_type": "code",
            "source": "",
            "execution_count": null,
            "outputs": []
        }
    ],
    "metadata": {
        "kernelspec": {
            "name": "python3",
            "display_name": "Python 3.6",
            "language": "python"
        },
        "language_info": {
            "name": "python",
            "version": "3.6.9",
            "mimetype": "text/x-python",
            "codemirror_mode": {
                "name": "ipython",
                "version": 3
            },
            "pygments_lexer": "ipython3",
            "nbconvert_exporter": "python",
            "file_extension": ".py"
        }
    },
    "nbformat": 4,
    "nbformat_minor": 1
}